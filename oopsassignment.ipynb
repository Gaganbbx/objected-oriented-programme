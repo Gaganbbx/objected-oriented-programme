{
 "cells": [
  {
   "cell_type": "code",
   "execution_count": 1,
   "id": "af4897ed-41e2-4792-bdda-f660b470c77a",
   "metadata": {},
   "outputs": [],
   "source": [
    "### In object-oriented programming (OOP), a class is a blueprint or a template for creating objects that define the attributes and behaviors of an entity. An object, on the other hand, is an instance of a class that has its own unique state and behavior."
   ]
  },
  {
   "cell_type": "code",
   "execution_count": 2,
   "id": "3c8b1b12-7c7f-4aed-a280-31b3869b198c",
   "metadata": {},
   "outputs": [],
   "source": [
    "class Car:\n",
    "    def __init__(self, make, model, color, year):\n",
    "        self.make = make\n",
    "        self.model = model\n",
    "        self.color = color\n",
    "        self.year = year\n",
    "        \n",
    "    def accelerate(self):\n",
    "        print(\"The car is accelerating.\")\n",
    "    \n",
    "    def brake(self):\n",
    "        print(\"The car is braking.\")\n",
    "    \n",
    "    def turn(self, direction):\n",
    "        print(f\"The car is turning {direction}.\")\n",
    "        \n",
    "\n",
    "my_car = Car(\"Toyota\", \"Corolla\", \"blue\", 2022)\n"
   ]
  },
  {
   "cell_type": "code",
   "execution_count": 3,
   "id": "bd9a82d9-fa53-4028-a268-3299e392e061",
   "metadata": {},
   "outputs": [],
   "source": [
    "##The four pillars of object-oriented programming (OOP) are:\n",
    "\n",
    " ##   Encapsulation: Encapsulation refers to the concept of hiding the internal details and implementation of an object from the outside world and exposing only what is necessary through a public interface. Encapsulation helps in protecting the object from unauthorized access and modification.\n",
    "\n",
    " ##   Abstraction: Abstraction refers to the concept of representing complex real-world systems in simplified and generalized terms using abstract classes, interfaces, and methods. Abstraction helps in managing the complexity of large software systems by breaking them down into smaller, more manageable parts.\n",
    "\n",
    " ##   Inheritance: Inheritance is a mechanism that allows a new class to be based on an existing class, inheriting its properties and behaviors. Inheritance helps in creating a hierarchy of classes that share common properties and behaviors, thus promoting code reuse and reducing redundancy.\n",
    "\n",
    "  ##  Polymorphism: Polymorphism refers to the ability of objects of different classes to be treated as if they are of the same class, allowing them to be used interchangeably. Polymorphism helps in creating flexible and extensible code that can work with different types of objects without needing to know their exact type."
   ]
  },
  {
   "cell_type": "code",
   "execution_count": 4,
   "id": "1d6a7e88-7dc8-415b-9dbd-54259a490070",
   "metadata": {},
   "outputs": [],
   "source": [
    "### The __init__() function is often used to set up the initial state of an object, such as its properties, and it can take arguments that are passed to the object when it is created."
   ]
  },
  {
   "cell_type": "code",
   "execution_count": 5,
   "id": "90ba444a-3608-4464-bf2d-29560b1f4e51",
   "metadata": {},
   "outputs": [],
   "source": [
    "class pwskills1 :\n",
    "    \n",
    "    def __init__(self ,phone_number , email_id , student_id ):\n",
    "        self.phone_number = phone_number\n",
    "        self.email_id = email_id\n",
    "        self.student_id = student_id\n",
    "    \n",
    "    def return_student_deetials(self) : \n",
    "        return self.student_id ,self.phone_number ,self.email_id"
   ]
  },
  {
   "cell_type": "code",
   "execution_count": 6,
   "id": "2954fa07-c801-4985-ba75-ae9029e0f46e",
   "metadata": {},
   "outputs": [],
   "source": [
    "### The self keyword is used in Python to represent the instance of the class, and it must be the first parameter of any method in the class definition, including the __init__() method. When a method is called on an instance of the class, the self keyword is automatically passed to the method by Python, so that the method can access the attributes and methods of the instance."
   ]
  },
  {
   "cell_type": "code",
   "execution_count": 7,
   "id": "26004733-fa56-41c2-b067-5e7489009492",
   "metadata": {},
   "outputs": [],
   "source": [
    "### Single inheritance: In single inheritance, a new class is created by inheriting the properties and behaviors of a single parent class. The child class can add new properties and behaviors or modify the inherited ones. Here is an example:"
   ]
  },
  {
   "cell_type": "code",
   "execution_count": 8,
   "id": "4fce6b88-2029-48e9-857d-ababe8856bab",
   "metadata": {},
   "outputs": [
    {
     "name": "stdout",
     "output_type": "stream",
     "text": [
      "Rex\n",
      "Woof!\n"
     ]
    }
   ],
   "source": [
    "class Animal:\n",
    "    def __init__(self, name):\n",
    "        self.name = name\n",
    "        \n",
    "    def speak(self):\n",
    "        raise NotImplementedError(\"Subclass must implement this abstract method.\")\n",
    "        \n",
    "class Dog(Animal):\n",
    "    def speak(self):\n",
    "        return \"Woof!\"\n",
    "\n",
    "my_dog = Dog(\"Rex\")\n",
    "print(my_dog.name)   # Output: Rex\n",
    "print(my_dog.speak())   # Output: Woof!\n"
   ]
  },
  {
   "cell_type": "code",
   "execution_count": 9,
   "id": "1ddcc2e9-3ad3-47eb-b75a-e68a85fed9b3",
   "metadata": {},
   "outputs": [],
   "source": [
    "### Multiple inheritance: In multiple inheritance, a new class is created by inheriting the properties and behaviors of multiple parent classes. The child class can access the properties and behaviors of all the parent classes. Here is an example:"
   ]
  },
  {
   "cell_type": "code",
   "execution_count": 10,
   "id": "158de9f0-9352-4c7a-b959-b816156c2af1",
   "metadata": {},
   "outputs": [
    {
     "name": "stdout",
     "output_type": "stream",
     "text": [
      "Rex\n",
      "Woof!\n",
      "The young are fed with milk.\n"
     ]
    }
   ],
   "source": [
    "class Animal:\n",
    "    def __init__(self, name):\n",
    "        self.name = name\n",
    "        \n",
    "    def speak(self):\n",
    "        raise NotImplementedError(\"Subclass must implement this abstract method.\")\n",
    "        \n",
    "class Mammal:\n",
    "    def feed_young_with_milk(self):\n",
    "        return \"The young are fed with milk.\"\n",
    "    \n",
    "class Dog(Animal, Mammal):\n",
    "    def speak(self):\n",
    "        return \"Woof!\"\n",
    "\n",
    "my_dog = Dog(\"Rex\")\n",
    "print(my_dog.name)   # Output: Rex\n",
    "print(my_dog.speak())   # Output: Woof!\n",
    "print(my_dog.feed_young_with_milk())  # Output: The young are fed with milk.\n"
   ]
  },
  {
   "cell_type": "code",
   "execution_count": 11,
   "id": "f023717e-7d32-415e-8340-a5827e1b5a97",
   "metadata": {},
   "outputs": [],
   "source": [
    "### Hierarchical inheritance: In hierarchical inheritance, a new class is created by inheriting the properties and behaviors of a single parent class, and multiple child classes are created that inherit from the same parent class. Here is an example:"
   ]
  },
  {
   "cell_type": "code",
   "execution_count": 12,
   "id": "04930899-0d80-4bcd-950f-1097accf642e",
   "metadata": {},
   "outputs": [
    {
     "name": "stdout",
     "output_type": "stream",
     "text": [
      "Rex\n",
      "Woof!\n",
      "Tom\n",
      "Meow!\n"
     ]
    }
   ],
   "source": [
    "class Animal:\n",
    "    def __init__(self, name):\n",
    "        self.name = name\n",
    "        \n",
    "    def speak(self):\n",
    "        raise NotImplementedError(\"Subclass must implement this abstract method.\")\n",
    "        \n",
    "class Dog(Animal):\n",
    "    def speak(self):\n",
    "        return \"Woof!\"\n",
    "        \n",
    "class Cat(Animal):\n",
    "    def speak(self):\n",
    "        return \"Meow!\"\n",
    "\n",
    "my_dog = Dog(\"Rex\")\n",
    "print(my_dog.name)   # Output: Rex\n",
    "print(my_dog.speak())   # Output: Woof!\n",
    "\n",
    "my_cat = Cat(\"Tom\")\n",
    "print(my_cat.name)   # Output: Tom\n",
    "print(my_cat.speak())   # Output: Meow!\n"
   ]
  },
  {
   "cell_type": "code",
   "execution_count": null,
   "id": "a64f2857-0098-4de8-8572-7b8f60965db9",
   "metadata": {},
   "outputs": [],
   "source": []
  }
 ],
 "metadata": {
  "kernelspec": {
   "display_name": "Python 3 (ipykernel)",
   "language": "python",
   "name": "python3"
  },
  "language_info": {
   "codemirror_mode": {
    "name": "ipython",
    "version": 3
   },
   "file_extension": ".py",
   "mimetype": "text/x-python",
   "name": "python",
   "nbconvert_exporter": "python",
   "pygments_lexer": "ipython3",
   "version": "3.10.8"
  }
 },
 "nbformat": 4,
 "nbformat_minor": 5
}
